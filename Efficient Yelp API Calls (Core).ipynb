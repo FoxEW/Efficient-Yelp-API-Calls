{
 "cells": [
  {
   "cell_type": "markdown",
   "id": "fe32eb9a-c450-438b-83d1-fff3a4d5f521",
   "metadata": {},
   "source": [
    "### **Efficient Yelp API Calls**"
   ]
  },
  {
   "cell_type": "code",
   "execution_count": 1,
   "id": "08e93a7c-3d5a-40df-a7f1-41bd8708dac1",
   "metadata": {},
   "outputs": [],
   "source": [
    "# Standard Imports\n",
    "import numpy as np\n",
    "import pandas as pd\n",
    "import matplotlib.pyplot as plt\n",
    "import seaborn as sns\n",
    "\n",
    "# Additional Imports\n",
    "import os, json, math, time\n",
    "from yelpapi import YelpAPI\n",
    "from tqdm.notebook import tqdm_notebook"
   ]
  },
  {
   "cell_type": "markdown",
   "id": "cd7ac8fb-f443-4f5c-9ceb-5dd4859615c9",
   "metadata": {},
   "source": [
    "### **Credentials and Accessing the API**"
   ]
  },
  {
   "cell_type": "code",
   "execution_count": 2,
   "id": "48b41350-2ee4-4dbf-b6d8-8f982e7a7d15",
   "metadata": {},
   "outputs": [],
   "source": [
    "# Load API Credentials\n",
    "with open('/Users/Erfoxcroft/.secret/yelp_api.json') as f:   #use your path here!\n",
    "    login = json.load(f)\n",
    "# Instantiate YelpAPI Variable\n",
    "yelp_api = YelpAPI(login['api-key'], timeout_s=5.0)"
   ]
  },
  {
   "cell_type": "markdown",
   "id": "d460d499-da35-4e5f-9b11-9c99a02854ab",
   "metadata": {},
   "source": [
    "### **Define Search**"
   ]
  },
  {
   "cell_type": "markdown",
   "id": "1554b3da-a370-4b66-80fa-316cab418b29",
   "metadata": {},
   "source": [
    "- Use the Yelp API to search your favorite city for a cuisine type of your choice <br>\n",
    "- Extract all of the results from your search and compile them into one dataframe using a for loop"
   ]
  },
  {
   "cell_type": "code",
   "execution_count": 3,
   "id": "5d3321ea-d5bb-423d-a9e1-05db9ed0dbf8",
   "metadata": {},
   "outputs": [],
   "source": [
    "# Set our API call parameters \n",
    "LOCATION = 'NY,NY'\n",
    "TERM = 'seafood' # Search Term #"
   ]
  },
  {
   "cell_type": "markdown",
   "id": "7c83744a-5330-4dc4-9f4a-42a895e8fa7c",
   "metadata": {},
   "source": [
    "### **Create a JSON file where your results will be saved**"
   ]
  },
  {
   "cell_type": "code",
   "execution_count": 4,
   "id": "e8f93221-f434-461c-aa48-f68bd9813ed6",
   "metadata": {},
   "outputs": [
    {
     "data": {
      "text/plain": [
       "'Data/results_in_progress_NY_seafood.json'"
      ]
     },
     "execution_count": 4,
     "metadata": {},
     "output_type": "execute_result"
    }
   ],
   "source": [
    "# Specifying JSON_FILE filename (can include a folder)\n",
    "# include the search terms in the filename\n",
    "JSON_FILE = \"Data/results_in_progress_NY_seafood.json\"\n",
    "JSON_FILE"
   ]
  },
  {
   "cell_type": "markdown",
   "id": "25d5e5e8-8fb6-40d0-92ee-6c1626b23b30",
   "metadata": {},
   "source": [
    "- **Create a results-in-progress JSON file, but only if it doesn't exist**"
   ]
  },
  {
   "cell_type": "code",
   "execution_count": 5,
   "id": "19973daf-9acc-4d75-aede-9b3b48b56cc1",
   "metadata": {},
   "outputs": [
    {
     "name": "stdout",
     "output_type": "stream",
     "text": [
      "[i] Data/results_in_progress_NY_seafood.json not found. Saving empty list to file.\n"
     ]
    }
   ],
   "source": [
    "## Check if JSON_FILE exists\n",
    "file_exists = os.path.isfile(JSON_FILE)\n",
    "## If it does not exist: \n",
    "if file_exists == False:\n",
    "    \n",
    "    ## CREATE ANY NEEDED FOLDERS\n",
    "    # Get the Folder Name only\n",
    "    folder = os.path.dirname(JSON_FILE)\n",
    "    ## If JSON_FILE included a folder:\n",
    "    if len(folder)>0:\n",
    "        # create the folder\n",
    "        os.makedirs(folder,exist_ok=True)\n",
    "        \n",
    "        \n",
    "    ## INFORM USER AND SAVE EMPTY LIST\n",
    "    print(f'[i] {JSON_FILE} not found. Saving empty list to file.')\n",
    "    \n",
    "    \n",
    "    # save an empty list\n",
    "    with open(JSON_FILE,'w') as f:\n",
    "        json.dump([],f)  \n",
    "# If it exists, inform user\n",
    "else:\n",
    "    print(f\"[i] {JSON_FILE} already exists.\")"
   ]
  },
  {
   "cell_type": "markdown",
   "id": "aca6b81a-4b41-41cf-8406-875bef6ebb2a",
   "metadata": {},
   "source": [
    "- **Determine how many results are already in the file**"
   ]
  },
  {
   "cell_type": "code",
   "execution_count": 6,
   "id": "dfb25249-53d5-441a-8855-2bf3829d0a58",
   "metadata": {},
   "outputs": [
    {
     "name": "stdout",
     "output_type": "stream",
     "text": [
      "- 0 previous results found.\n"
     ]
    }
   ],
   "source": [
    "## Load previous results and use len of results for offset\n",
    "with open(JSON_FILE,'r') as f:\n",
    "    previous_results = json.load(f)\n",
    "    \n",
    "## set offset based on previous results\n",
    "n_results = len(previous_results)\n",
    "print(f'- {n_results} previous results found.')"
   ]
  },
  {
   "cell_type": "markdown",
   "id": "1fef0b29-9d7b-498f-bce4-fa314df08e88",
   "metadata": {},
   "source": [
    "- **Decide how many pages of results will be needed**"
   ]
  },
  {
   "cell_type": "code",
   "execution_count": 7,
   "id": "5ee90976-9c68-4cfb-a874-a00157e0ea50",
   "metadata": {},
   "outputs": [
    {
     "data": {
      "text/plain": [
       "dict_keys(['businesses', 'total', 'region'])"
      ]
     },
     "execution_count": 7,
     "metadata": {},
     "output_type": "execute_result"
    }
   ],
   "source": [
    "# use our yelp_api variable's search_query method to perform our API call\n",
    "results = yelp_api.search_query(location=LOCATION,\n",
    "                                term=TERM,\n",
    "                               offset=n_results)\n",
    "results.keys()"
   ]
  },
  {
   "cell_type": "code",
   "execution_count": 8,
   "id": "09ff68a8-f064-4ad2-bce1-e82cd717ad81",
   "metadata": {},
   "outputs": [
    {
     "data": {
      "text/plain": [
       "13200"
      ]
     },
     "execution_count": 8,
     "metadata": {},
     "output_type": "execute_result"
    }
   ],
   "source": [
    "## How many results total?\n",
    "total_results = results['total']\n",
    "total_results"
   ]
  },
  {
   "cell_type": "code",
   "execution_count": 9,
   "id": "bc545a6c-2074-43a1-b150-b2abc6b700aa",
   "metadata": {},
   "outputs": [
    {
     "data": {
      "text/plain": [
       "20"
      ]
     },
     "execution_count": 9,
     "metadata": {},
     "output_type": "execute_result"
    }
   ],
   "source": [
    "## How many did we get the details for?\n",
    "results_per_page = len(results['businesses'])\n",
    "results_per_page"
   ]
  },
  {
   "cell_type": "code",
   "execution_count": 10,
   "id": "aedf224c-4915-4745-b624-2378371a9e4d",
   "metadata": {},
   "outputs": [
    {
     "data": {
      "text/plain": [
       "660"
      ]
     },
     "execution_count": 10,
     "metadata": {},
     "output_type": "execute_result"
    }
   ],
   "source": [
    "# Use math.ceil to round up for the total number of pages of results.\n",
    "n_pages = math.ceil((results['total']-n_results)/ results_per_page)\n",
    "n_pages"
   ]
  },
  {
   "cell_type": "markdown",
   "id": "a09d8635-98a8-42cf-8649-1d6ba0d56551",
   "metadata": {},
   "source": [
    "- **Add page of results to .JSON file**"
   ]
  },
  {
   "cell_type": "code",
   "execution_count": 11,
   "id": "d1a4a60a-6c1f-4cfc-b133-5e325326fab1",
   "metadata": {},
   "outputs": [],
   "source": [
    "# join new results with old list with extend and save to file\n",
    "previous_results.extend(results['businesses'])  \n",
    "with open(JSON_FILE,'w') as f:\n",
    "     json.dump(previous_results,f)"
   ]
  },
  {
   "cell_type": "markdown",
   "id": "de980b78-2064-40c9-80ca-2beb91b1742b",
   "metadata": {},
   "source": [
    "### **Create a Function**"
   ]
  },
  {
   "cell_type": "code",
   "execution_count": 12,
   "id": "b1c00f3c-1ad1-4205-a1bc-8bd2f542e317",
   "metadata": {},
   "outputs": [],
   "source": [
    "def create_json_file(JSON_FILE, delete_if_exists=False):\n",
    "    # Check if JSON_FILE exists\n",
    "    file_exists = os.path.isfile(JSON_FILE)\n",
    "\n",
    "    # If it DOES exist:\n",
    "    if file_exists == True:\n",
    "        # Check if user wants to delete if exists\n",
    "        if delete_if_exists:\n",
    "            print(f\"[!] {JSON_FILE} already exists. Deleting previous file...\")\n",
    "            # delete file\n",
    "            os.remove(JSON_FILE)\n",
    "            # Recursive call to function after old file deleted\n",
    "            create_json_file(JSON_FILE, delete_if_exists=False)\n",
    "        else:\n",
    "            print(f\"[i] {JSON_FILE} already exists.\")\n",
    "    \n",
    "    # If it does NOT exist:\n",
    "    else:\n",
    "        # INFORM USER AND SAVE EMPTY LIST\n",
    "        print(f\"[i] {JSON_FILE} not found. Saving empty list to new file.\")\n",
    "\n",
    "        # CREATE ANY NEEDED FOLDERS\n",
    "        # Get the Folder Name only\n",
    "        folder = os.path.dirname(JSON_FILE)\n",
    "\n",
    "        # If JSON_FILE included a folder:\n",
    "        if len(folder) > 0:\n",
    "            # create the folder\n",
    "            os.makedirs(folder, exist_ok=True)\n",
    "        \n",
    "        # Save empty list to start the json file\n",
    "        with open(JSON_FILE, 'w') as f:\n",
    "            json.dump([], f)\n",
    "\n",
    "# Example usage:\n",
    "# create_json_file(\"example.json\", delete_if_exists=True)"
   ]
  },
  {
   "cell_type": "code",
   "execution_count": 13,
   "id": "7ffad89c-a935-454e-b46e-68ef32fcd864",
   "metadata": {},
   "outputs": [
    {
     "name": "stdout",
     "output_type": "stream",
     "text": [
      "[!] Data/results_in_progress_NY_seafood.json already exists. Deleting previous file...\n",
      "[i] Data/results_in_progress_NY_seafood.json not found. Saving empty list to new file.\n",
      "- 0 previous results found.\n"
     ]
    },
    {
     "data": {
      "text/plain": [
       "645"
      ]
     },
     "execution_count": 13,
     "metadata": {},
     "output_type": "execute_result"
    }
   ],
   "source": [
    "## Create a new empty json file (delete the previous if it exists)\n",
    "create_json_file(JSON_FILE, delete_if_exists=True)\n",
    "## Load previous results and use len of results for offset\n",
    "with open(JSON_FILE,'r') as f:\n",
    "    previous_results = json.load(f)\n",
    "    \n",
    "## set offset based on previous results\n",
    "n_results = len(previous_results)\n",
    "print(f'- {n_results} previous results found.')\n",
    "# use our yelp_api variable's search_query method to perform our API call\n",
    "results = yelp_api.search_query(location=LOCATION,\n",
    "                                term=TERM,\n",
    "                               offset=n_results)\n",
    "## How many results total?\n",
    "total_results = results['total']\n",
    "## How many did we get the details for?\n",
    "results_per_page = len(results['businesses'])\n",
    "# Use math.ceil to round up for the total number of pages of results.\n",
    "n_pages = math.ceil((results['total']-n_results)/ results_per_page)\n",
    "n_pages"
   ]
  },
  {
   "cell_type": "code",
   "execution_count": 14,
   "id": "3c85df21-92ee-4ada-9bd0-5011a6acdec3",
   "metadata": {},
   "outputs": [
    {
     "data": {
      "application/vnd.jupyter.widget-view+json": {
       "model_id": "54d256ffcddd44228849c498701826c7",
       "version_major": 2,
       "version_minor": 0
      },
      "text/plain": [
       "  0%|          | 0/645 [00:00<?, ?it/s]"
      ]
     },
     "metadata": {},
     "output_type": "display_data"
    },
    {
     "name": "stdout",
     "output_type": "stream",
     "text": [
      "Exceeded 1000 api calls. Stopping loop.\n"
     ]
    }
   ],
   "source": [
    "for i in tqdm_notebook( range(1,n_pages+1)):\n",
    "    \n",
    "    ## Read in results in progress file and check the length\n",
    "    with open(JSON_FILE, 'r') as f:\n",
    "        previous_results = json.load(f)\n",
    "    ## save number of results for to use as offset\n",
    "    n_results = len(previous_results)\n",
    "    \n",
    "    if (n_results + results_per_page) > 1000:\n",
    "        print('Exceeded 1000 api calls. Stopping loop.')\n",
    "        break## use n_results as the OFFSET \n",
    "    results = yelp_api.search_query(location=LOCATION,\n",
    "                                    term=TERM, \n",
    "                                    offset=n_results)\n",
    "    \n",
    "    \n",
    "    \n",
    "    ## append new results and save to file\n",
    "    previous_results.extend(results['businesses'])\n",
    "    \n",
    "    # display(previous_results)\n",
    "    with open(JSON_FILE,'w') as f:\n",
    "        json.dump(previous_results,f)\n",
    "    \n",
    "    time.sleep(.2)\n",
    "\n",
    "# Exceeded 1000 api calls. Stopping loop."
   ]
  },
  {
   "cell_type": "code",
   "execution_count": 16,
   "id": "d19abfe6-8049-4549-ac40-b6172a1ea3e3",
   "metadata": {},
   "outputs": [
    {
     "data": {
      "text/html": [
       "<div>\n",
       "<style scoped>\n",
       "    .dataframe tbody tr th:only-of-type {\n",
       "        vertical-align: middle;\n",
       "    }\n",
       "\n",
       "    .dataframe tbody tr th {\n",
       "        vertical-align: top;\n",
       "    }\n",
       "\n",
       "    .dataframe thead th {\n",
       "        text-align: right;\n",
       "    }\n",
       "</style>\n",
       "<table border=\"1\" class=\"dataframe\">\n",
       "  <thead>\n",
       "    <tr style=\"text-align: right;\">\n",
       "      <th></th>\n",
       "      <th>id</th>\n",
       "      <th>alias</th>\n",
       "      <th>name</th>\n",
       "      <th>image_url</th>\n",
       "      <th>is_closed</th>\n",
       "      <th>url</th>\n",
       "      <th>review_count</th>\n",
       "      <th>categories</th>\n",
       "      <th>rating</th>\n",
       "      <th>coordinates</th>\n",
       "      <th>transactions</th>\n",
       "      <th>price</th>\n",
       "      <th>location</th>\n",
       "      <th>phone</th>\n",
       "      <th>display_phone</th>\n",
       "      <th>distance</th>\n",
       "    </tr>\n",
       "  </thead>\n",
       "  <tbody>\n",
       "    <tr>\n",
       "      <th>0</th>\n",
       "      <td>YvWQMlMjtYmVmheH97tTlQ</td>\n",
       "      <td>crab-house-all-you-can-eat-seafood-new-york</td>\n",
       "      <td>Crab House All You Can Eat Seafood</td>\n",
       "      <td>https://s3-media2.fl.yelpcdn.com/bphoto/1J0qtJ...</td>\n",
       "      <td>False</td>\n",
       "      <td>https://www.yelp.com/biz/crab-house-all-you-ca...</td>\n",
       "      <td>936</td>\n",
       "      <td>[{'alias': 'buffets', 'title': 'Buffets'}, {'a...</td>\n",
       "      <td>4.5</td>\n",
       "      <td>{'latitude': 40.759664, 'longitude': -73.969776}</td>\n",
       "      <td>[pickup, delivery]</td>\n",
       "      <td>$$$$</td>\n",
       "      <td>{'address1': '135 E 55th St', 'address2': None...</td>\n",
       "      <td>+12129330264</td>\n",
       "      <td>(212) 933-0264</td>\n",
       "      <td>6381.672940</td>\n",
       "    </tr>\n",
       "    <tr>\n",
       "      <th>1</th>\n",
       "      <td>yrH_D2YMYIydwKk8MrVlqA</td>\n",
       "      <td>crab-house-brooklyn-all-you-can-eat-seafood-br...</td>\n",
       "      <td>Crab House Brooklyn All You Can Eat Seafood</td>\n",
       "      <td>https://s3-media4.fl.yelpcdn.com/bphoto/nLkqUV...</td>\n",
       "      <td>False</td>\n",
       "      <td>https://www.yelp.com/biz/crab-house-brooklyn-a...</td>\n",
       "      <td>103</td>\n",
       "      <td>[{'alias': 'seafood', 'title': 'Seafood'}, {'a...</td>\n",
       "      <td>4.5</td>\n",
       "      <td>{'latitude': 40.57594204454698, 'longitude': -...</td>\n",
       "      <td>[]</td>\n",
       "      <td>$$$$</td>\n",
       "      <td>{'address1': '1223 Surf Ave', 'address2': None...</td>\n",
       "      <td>+13474621934</td>\n",
       "      <td>(347) 462-1934</td>\n",
       "      <td>14446.828706</td>\n",
       "    </tr>\n",
       "    <tr>\n",
       "      <th>2</th>\n",
       "      <td>LpVbI-E9C-CSp7WhU5h2Iw</td>\n",
       "      <td>fishmarket-restaurant-new-york</td>\n",
       "      <td>Fishmarket Restaurant</td>\n",
       "      <td>https://s3-media1.fl.yelpcdn.com/bphoto/-rU1vu...</td>\n",
       "      <td>False</td>\n",
       "      <td>https://www.yelp.com/biz/fishmarket-restaurant...</td>\n",
       "      <td>636</td>\n",
       "      <td>[{'alias': 'seafood', 'title': 'Seafood'}, {'a...</td>\n",
       "      <td>4.5</td>\n",
       "      <td>{'latitude': 40.70717, 'longitude': -74.00192}</td>\n",
       "      <td>[delivery]</td>\n",
       "      <td>$$</td>\n",
       "      <td>{'address1': '111 South St', 'address2': '', '...</td>\n",
       "      <td>+19173638101</td>\n",
       "      <td>(917) 363-8101</td>\n",
       "      <td>667.940697</td>\n",
       "    </tr>\n",
       "    <tr>\n",
       "      <th>3</th>\n",
       "      <td>Ch_m0ZPPzFJF7oi6dyk1Yw</td>\n",
       "      <td>crab-shack-seafood-boil-queens</td>\n",
       "      <td>Crab Shack Seafood Boil</td>\n",
       "      <td>https://s3-media3.fl.yelpcdn.com/bphoto/7Op8-z...</td>\n",
       "      <td>False</td>\n",
       "      <td>https://www.yelp.com/biz/crab-shack-seafood-bo...</td>\n",
       "      <td>28</td>\n",
       "      <td>[{'alias': 'seafood', 'title': 'Seafood'}, {'a...</td>\n",
       "      <td>4.5</td>\n",
       "      <td>{'latitude': 40.7006229, 'longitude': -73.8359...</td>\n",
       "      <td>[pickup, delivery, restaurant_reservation]</td>\n",
       "      <td>NaN</td>\n",
       "      <td>{'address1': '5525 Myrtle Ave', 'address2': No...</td>\n",
       "      <td>+13476899949</td>\n",
       "      <td>(347) 689-9949</td>\n",
       "      <td>7330.684086</td>\n",
       "    </tr>\n",
       "    <tr>\n",
       "      <th>4</th>\n",
       "      <td>hdiuRS9sVZSMReZm4oV5SA</td>\n",
       "      <td>da-andrea-new-york</td>\n",
       "      <td>Da Andrea</td>\n",
       "      <td>https://s3-media1.fl.yelpcdn.com/bphoto/OciLdd...</td>\n",
       "      <td>False</td>\n",
       "      <td>https://www.yelp.com/biz/da-andrea-new-york?ad...</td>\n",
       "      <td>2105</td>\n",
       "      <td>[{'alias': 'italian', 'title': 'Italian'}, {'a...</td>\n",
       "      <td>4.5</td>\n",
       "      <td>{'latitude': 40.736218, 'longitude': -73.99597}</td>\n",
       "      <td>[pickup, delivery, restaurant_reservation]</td>\n",
       "      <td>$$</td>\n",
       "      <td>{'address1': '35 W 13th St', 'address2': '', '...</td>\n",
       "      <td>+12123671979</td>\n",
       "      <td>(212) 367-1979</td>\n",
       "      <td>3424.729337</td>\n",
       "    </tr>\n",
       "  </tbody>\n",
       "</table>\n",
       "</div>"
      ],
      "text/plain": [
       "                       id                                              alias  \\\n",
       "0  YvWQMlMjtYmVmheH97tTlQ        crab-house-all-you-can-eat-seafood-new-york   \n",
       "1  yrH_D2YMYIydwKk8MrVlqA  crab-house-brooklyn-all-you-can-eat-seafood-br...   \n",
       "2  LpVbI-E9C-CSp7WhU5h2Iw                     fishmarket-restaurant-new-york   \n",
       "3  Ch_m0ZPPzFJF7oi6dyk1Yw                     crab-shack-seafood-boil-queens   \n",
       "4  hdiuRS9sVZSMReZm4oV5SA                                 da-andrea-new-york   \n",
       "\n",
       "                                          name  \\\n",
       "0           Crab House All You Can Eat Seafood   \n",
       "1  Crab House Brooklyn All You Can Eat Seafood   \n",
       "2                        Fishmarket Restaurant   \n",
       "3                      Crab Shack Seafood Boil   \n",
       "4                                    Da Andrea   \n",
       "\n",
       "                                           image_url  is_closed  \\\n",
       "0  https://s3-media2.fl.yelpcdn.com/bphoto/1J0qtJ...      False   \n",
       "1  https://s3-media4.fl.yelpcdn.com/bphoto/nLkqUV...      False   \n",
       "2  https://s3-media1.fl.yelpcdn.com/bphoto/-rU1vu...      False   \n",
       "3  https://s3-media3.fl.yelpcdn.com/bphoto/7Op8-z...      False   \n",
       "4  https://s3-media1.fl.yelpcdn.com/bphoto/OciLdd...      False   \n",
       "\n",
       "                                                 url  review_count  \\\n",
       "0  https://www.yelp.com/biz/crab-house-all-you-ca...           936   \n",
       "1  https://www.yelp.com/biz/crab-house-brooklyn-a...           103   \n",
       "2  https://www.yelp.com/biz/fishmarket-restaurant...           636   \n",
       "3  https://www.yelp.com/biz/crab-shack-seafood-bo...            28   \n",
       "4  https://www.yelp.com/biz/da-andrea-new-york?ad...          2105   \n",
       "\n",
       "                                          categories  rating  \\\n",
       "0  [{'alias': 'buffets', 'title': 'Buffets'}, {'a...     4.5   \n",
       "1  [{'alias': 'seafood', 'title': 'Seafood'}, {'a...     4.5   \n",
       "2  [{'alias': 'seafood', 'title': 'Seafood'}, {'a...     4.5   \n",
       "3  [{'alias': 'seafood', 'title': 'Seafood'}, {'a...     4.5   \n",
       "4  [{'alias': 'italian', 'title': 'Italian'}, {'a...     4.5   \n",
       "\n",
       "                                         coordinates  \\\n",
       "0   {'latitude': 40.759664, 'longitude': -73.969776}   \n",
       "1  {'latitude': 40.57594204454698, 'longitude': -...   \n",
       "2     {'latitude': 40.70717, 'longitude': -74.00192}   \n",
       "3  {'latitude': 40.7006229, 'longitude': -73.8359...   \n",
       "4    {'latitude': 40.736218, 'longitude': -73.99597}   \n",
       "\n",
       "                                 transactions price  \\\n",
       "0                          [pickup, delivery]  $$$$   \n",
       "1                                          []  $$$$   \n",
       "2                                  [delivery]    $$   \n",
       "3  [pickup, delivery, restaurant_reservation]   NaN   \n",
       "4  [pickup, delivery, restaurant_reservation]    $$   \n",
       "\n",
       "                                            location         phone  \\\n",
       "0  {'address1': '135 E 55th St', 'address2': None...  +12129330264   \n",
       "1  {'address1': '1223 Surf Ave', 'address2': None...  +13474621934   \n",
       "2  {'address1': '111 South St', 'address2': '', '...  +19173638101   \n",
       "3  {'address1': '5525 Myrtle Ave', 'address2': No...  +13476899949   \n",
       "4  {'address1': '35 W 13th St', 'address2': '', '...  +12123671979   \n",
       "\n",
       "    display_phone      distance  \n",
       "0  (212) 933-0264   6381.672940  \n",
       "1  (347) 462-1934  14446.828706  \n",
       "2  (917) 363-8101    667.940697  \n",
       "3  (347) 689-9949   7330.684086  \n",
       "4  (212) 367-1979   3424.729337  "
      ]
     },
     "metadata": {},
     "output_type": "display_data"
    },
    {
     "data": {
      "text/html": [
       "<div>\n",
       "<style scoped>\n",
       "    .dataframe tbody tr th:only-of-type {\n",
       "        vertical-align: middle;\n",
       "    }\n",
       "\n",
       "    .dataframe tbody tr th {\n",
       "        vertical-align: top;\n",
       "    }\n",
       "\n",
       "    .dataframe thead th {\n",
       "        text-align: right;\n",
       "    }\n",
       "</style>\n",
       "<table border=\"1\" class=\"dataframe\">\n",
       "  <thead>\n",
       "    <tr style=\"text-align: right;\">\n",
       "      <th></th>\n",
       "      <th>id</th>\n",
       "      <th>alias</th>\n",
       "      <th>name</th>\n",
       "      <th>image_url</th>\n",
       "      <th>is_closed</th>\n",
       "      <th>url</th>\n",
       "      <th>review_count</th>\n",
       "      <th>categories</th>\n",
       "      <th>rating</th>\n",
       "      <th>coordinates</th>\n",
       "      <th>transactions</th>\n",
       "      <th>price</th>\n",
       "      <th>location</th>\n",
       "      <th>phone</th>\n",
       "      <th>display_phone</th>\n",
       "      <th>distance</th>\n",
       "    </tr>\n",
       "  </thead>\n",
       "  <tbody>\n",
       "    <tr>\n",
       "      <th>995</th>\n",
       "      <td>lxt9V-AT3UvxQVNZVj45qg</td>\n",
       "      <td>prode-little-neck</td>\n",
       "      <td>Prode</td>\n",
       "      <td>https://s3-media2.fl.yelpcdn.com/bphoto/L7FNfK...</td>\n",
       "      <td>False</td>\n",
       "      <td>https://www.yelp.com/biz/prode-little-neck?adj...</td>\n",
       "      <td>100</td>\n",
       "      <td>[{'alias': 'thai', 'title': 'Thai'}, {'alias':...</td>\n",
       "      <td>5.0</td>\n",
       "      <td>{'latitude': 40.769369, 'longitude': -73.736158}</td>\n",
       "      <td>[delivery, pickup, restaurant_reservation]</td>\n",
       "      <td>NaN</td>\n",
       "      <td>{'address1': '251-28 Northern Blvd', 'address2...</td>\n",
       "      <td>+17183049744</td>\n",
       "      <td>(718) 304-9744</td>\n",
       "      <td>22880.650025</td>\n",
       "    </tr>\n",
       "    <tr>\n",
       "      <th>996</th>\n",
       "      <td>uVfOB37NyYEGRs5FITM-nQ</td>\n",
       "      <td>leyenda-brooklyn</td>\n",
       "      <td>Leyenda</td>\n",
       "      <td>https://s3-media2.fl.yelpcdn.com/bphoto/xmzICv...</td>\n",
       "      <td>False</td>\n",
       "      <td>https://www.yelp.com/biz/leyenda-brooklyn?adju...</td>\n",
       "      <td>323</td>\n",
       "      <td>[{'alias': 'latin', 'title': 'Latin American'}...</td>\n",
       "      <td>4.0</td>\n",
       "      <td>{'latitude': 40.68431, 'longitude': -73.99197}</td>\n",
       "      <td>[delivery, pickup]</td>\n",
       "      <td>$$</td>\n",
       "      <td>{'address1': '221 Smith St', 'address2': '', '...</td>\n",
       "      <td>+13479873260</td>\n",
       "      <td>(347) 987-3260</td>\n",
       "      <td>2361.433794</td>\n",
       "    </tr>\n",
       "    <tr>\n",
       "      <th>997</th>\n",
       "      <td>EFihj7vsRRXiF5la-UURyw</td>\n",
       "      <td>hop-kee-new-york</td>\n",
       "      <td>Hop Kee</td>\n",
       "      <td>https://s3-media1.fl.yelpcdn.com/bphoto/S32no6...</td>\n",
       "      <td>False</td>\n",
       "      <td>https://www.yelp.com/biz/hop-kee-new-york?adju...</td>\n",
       "      <td>911</td>\n",
       "      <td>[{'alias': 'seafood', 'title': 'Seafood'}, {'a...</td>\n",
       "      <td>3.5</td>\n",
       "      <td>{'latitude': 40.714458, 'longitude': -73.998889}</td>\n",
       "      <td>[delivery]</td>\n",
       "      <td>$$</td>\n",
       "      <td>{'address1': '21 Mott St', 'address2': '', 'ad...</td>\n",
       "      <td>+12129648365</td>\n",
       "      <td>(212) 964-8365</td>\n",
       "      <td>1074.470972</td>\n",
       "    </tr>\n",
       "    <tr>\n",
       "      <th>998</th>\n",
       "      <td>JwCnSW-RQ7_DxvbzWNO1hA</td>\n",
       "      <td>coletta-new-york-2</td>\n",
       "      <td>Coletta</td>\n",
       "      <td>https://s3-media2.fl.yelpcdn.com/bphoto/v8F0R1...</td>\n",
       "      <td>False</td>\n",
       "      <td>https://www.yelp.com/biz/coletta-new-york-2?ad...</td>\n",
       "      <td>234</td>\n",
       "      <td>[{'alias': 'vegan', 'title': 'Vegan'}, {'alias...</td>\n",
       "      <td>4.5</td>\n",
       "      <td>{'latitude': 40.74094, 'longitude': -73.98139}</td>\n",
       "      <td>[delivery, pickup]</td>\n",
       "      <td>$$$</td>\n",
       "      <td>{'address1': '365 3rd Ave', 'address2': None, ...</td>\n",
       "      <td>+16468612889</td>\n",
       "      <td>(646) 861-2889</td>\n",
       "      <td>4089.341539</td>\n",
       "    </tr>\n",
       "    <tr>\n",
       "      <th>999</th>\n",
       "      <td>BdvUnXh0cI_r0znZOEPyHQ</td>\n",
       "      <td>flaming-grill-and-buffet-brooklyn</td>\n",
       "      <td>Flaming Grill &amp; Buffet</td>\n",
       "      <td>https://s3-media3.fl.yelpcdn.com/bphoto/17BZL6...</td>\n",
       "      <td>False</td>\n",
       "      <td>https://www.yelp.com/biz/flaming-grill-and-buf...</td>\n",
       "      <td>17</td>\n",
       "      <td>[{'alias': 'buffets', 'title': 'Buffets'}, {'a...</td>\n",
       "      <td>3.5</td>\n",
       "      <td>{'latitude': 40.646698, 'longitude': -73.957205}</td>\n",
       "      <td>[]</td>\n",
       "      <td>NaN</td>\n",
       "      <td>{'address1': '2163 Tilden Ave', 'address2': No...</td>\n",
       "      <td>+13473654818</td>\n",
       "      <td>(347) 365-4818</td>\n",
       "      <td>7234.304060</td>\n",
       "    </tr>\n",
       "  </tbody>\n",
       "</table>\n",
       "</div>"
      ],
      "text/plain": [
       "                         id                              alias  \\\n",
       "995  lxt9V-AT3UvxQVNZVj45qg                  prode-little-neck   \n",
       "996  uVfOB37NyYEGRs5FITM-nQ                   leyenda-brooklyn   \n",
       "997  EFihj7vsRRXiF5la-UURyw                   hop-kee-new-york   \n",
       "998  JwCnSW-RQ7_DxvbzWNO1hA                 coletta-new-york-2   \n",
       "999  BdvUnXh0cI_r0znZOEPyHQ  flaming-grill-and-buffet-brooklyn   \n",
       "\n",
       "                       name  \\\n",
       "995                   Prode   \n",
       "996                 Leyenda   \n",
       "997                 Hop Kee   \n",
       "998                 Coletta   \n",
       "999  Flaming Grill & Buffet   \n",
       "\n",
       "                                             image_url  is_closed  \\\n",
       "995  https://s3-media2.fl.yelpcdn.com/bphoto/L7FNfK...      False   \n",
       "996  https://s3-media2.fl.yelpcdn.com/bphoto/xmzICv...      False   \n",
       "997  https://s3-media1.fl.yelpcdn.com/bphoto/S32no6...      False   \n",
       "998  https://s3-media2.fl.yelpcdn.com/bphoto/v8F0R1...      False   \n",
       "999  https://s3-media3.fl.yelpcdn.com/bphoto/17BZL6...      False   \n",
       "\n",
       "                                                   url  review_count  \\\n",
       "995  https://www.yelp.com/biz/prode-little-neck?adj...           100   \n",
       "996  https://www.yelp.com/biz/leyenda-brooklyn?adju...           323   \n",
       "997  https://www.yelp.com/biz/hop-kee-new-york?adju...           911   \n",
       "998  https://www.yelp.com/biz/coletta-new-york-2?ad...           234   \n",
       "999  https://www.yelp.com/biz/flaming-grill-and-buf...            17   \n",
       "\n",
       "                                            categories  rating  \\\n",
       "995  [{'alias': 'thai', 'title': 'Thai'}, {'alias':...     5.0   \n",
       "996  [{'alias': 'latin', 'title': 'Latin American'}...     4.0   \n",
       "997  [{'alias': 'seafood', 'title': 'Seafood'}, {'a...     3.5   \n",
       "998  [{'alias': 'vegan', 'title': 'Vegan'}, {'alias...     4.5   \n",
       "999  [{'alias': 'buffets', 'title': 'Buffets'}, {'a...     3.5   \n",
       "\n",
       "                                          coordinates  \\\n",
       "995  {'latitude': 40.769369, 'longitude': -73.736158}   \n",
       "996    {'latitude': 40.68431, 'longitude': -73.99197}   \n",
       "997  {'latitude': 40.714458, 'longitude': -73.998889}   \n",
       "998    {'latitude': 40.74094, 'longitude': -73.98139}   \n",
       "999  {'latitude': 40.646698, 'longitude': -73.957205}   \n",
       "\n",
       "                                   transactions price  \\\n",
       "995  [delivery, pickup, restaurant_reservation]   NaN   \n",
       "996                          [delivery, pickup]    $$   \n",
       "997                                  [delivery]    $$   \n",
       "998                          [delivery, pickup]   $$$   \n",
       "999                                          []   NaN   \n",
       "\n",
       "                                              location         phone  \\\n",
       "995  {'address1': '251-28 Northern Blvd', 'address2...  +17183049744   \n",
       "996  {'address1': '221 Smith St', 'address2': '', '...  +13479873260   \n",
       "997  {'address1': '21 Mott St', 'address2': '', 'ad...  +12129648365   \n",
       "998  {'address1': '365 3rd Ave', 'address2': None, ...  +16468612889   \n",
       "999  {'address1': '2163 Tilden Ave', 'address2': No...  +13473654818   \n",
       "\n",
       "      display_phone      distance  \n",
       "995  (718) 304-9744  22880.650025  \n",
       "996  (347) 987-3260   2361.433794  \n",
       "997  (212) 964-8365   1074.470972  \n",
       "998  (646) 861-2889   4089.341539  \n",
       "999  (347) 365-4818   7234.304060  "
      ]
     },
     "metadata": {},
     "output_type": "display_data"
    }
   ],
   "source": [
    "# load final results\n",
    "final_df = pd.read_json(JSON_FILE)\n",
    "display(final_df.head(), final_df.tail())"
   ]
  },
  {
   "cell_type": "code",
   "execution_count": null,
   "id": "155b5323-bec0-4c3f-8f6c-bb0dd9d6284a",
   "metadata": {},
   "outputs": [],
   "source": []
  }
 ],
 "metadata": {
  "kernelspec": {
   "display_name": "Python (dojo-env)",
   "language": "python",
   "name": "dojo-env"
  },
  "language_info": {
   "codemirror_mode": {
    "name": "ipython",
    "version": 3
   },
   "file_extension": ".py",
   "mimetype": "text/x-python",
   "name": "python",
   "nbconvert_exporter": "python",
   "pygments_lexer": "ipython3",
   "version": "3.10.10"
  },
  "widgets": {
   "application/vnd.jupyter.widget-state+json": {
    "state": {
     "0a1d285de2944486afa5c40d30eda735": {
      "model_module": "@jupyter-widgets/controls",
      "model_module_version": "2.0.0",
      "model_name": "HTMLModel",
      "state": {
       "layout": "IPY_MODEL_5e7ae252bf36438d93039f74945d7234",
       "style": "IPY_MODEL_f73ccd40fa96497786160c9d8ab5cff7",
       "value": "  8%"
      }
     },
     "2d263dbc62a2406498eb9b1331c24a87": {
      "model_module": "@jupyter-widgets/controls",
      "model_module_version": "2.0.0",
      "model_name": "FloatProgressModel",
      "state": {
       "bar_style": "danger",
       "layout": "IPY_MODEL_8cd12db4c4664a59800b8e5b06ba30dd",
       "max": 645,
       "style": "IPY_MODEL_e0ebfb6d1e3741d68ea19ace337c0856",
       "value": 50
      }
     },
     "54d256ffcddd44228849c498701826c7": {
      "model_module": "@jupyter-widgets/controls",
      "model_module_version": "2.0.0",
      "model_name": "HBoxModel",
      "state": {
       "children": [
        "IPY_MODEL_0a1d285de2944486afa5c40d30eda735",
        "IPY_MODEL_2d263dbc62a2406498eb9b1331c24a87",
        "IPY_MODEL_ad339aff21b34f999a4efe24a93ab8db"
       ],
       "layout": "IPY_MODEL_cdf9f81d209e4782a2ac3ace84babde9"
      }
     },
     "56d23714a3ad48fc84805c75edd868ff": {
      "model_module": "@jupyter-widgets/controls",
      "model_module_version": "2.0.0",
      "model_name": "HTMLStyleModel",
      "state": {
       "description_width": "",
       "font_size": null,
       "text_color": null
      }
     },
     "5e7ae252bf36438d93039f74945d7234": {
      "model_module": "@jupyter-widgets/base",
      "model_module_version": "2.0.0",
      "model_name": "LayoutModel",
      "state": {}
     },
     "671ffef822d54cb3a394ae3f1c57657b": {
      "model_module": "@jupyter-widgets/base",
      "model_module_version": "2.0.0",
      "model_name": "LayoutModel",
      "state": {}
     },
     "8cd12db4c4664a59800b8e5b06ba30dd": {
      "model_module": "@jupyter-widgets/base",
      "model_module_version": "2.0.0",
      "model_name": "LayoutModel",
      "state": {}
     },
     "ad339aff21b34f999a4efe24a93ab8db": {
      "model_module": "@jupyter-widgets/controls",
      "model_module_version": "2.0.0",
      "model_name": "HTMLModel",
      "state": {
       "layout": "IPY_MODEL_671ffef822d54cb3a394ae3f1c57657b",
       "style": "IPY_MODEL_56d23714a3ad48fc84805c75edd868ff",
       "value": " 50/645 [01:27&lt;21:22,  2.16s/it]"
      }
     },
     "cdf9f81d209e4782a2ac3ace84babde9": {
      "model_module": "@jupyter-widgets/base",
      "model_module_version": "2.0.0",
      "model_name": "LayoutModel",
      "state": {}
     },
     "e0ebfb6d1e3741d68ea19ace337c0856": {
      "model_module": "@jupyter-widgets/controls",
      "model_module_version": "2.0.0",
      "model_name": "ProgressStyleModel",
      "state": {
       "description_width": ""
      }
     },
     "f73ccd40fa96497786160c9d8ab5cff7": {
      "model_module": "@jupyter-widgets/controls",
      "model_module_version": "2.0.0",
      "model_name": "HTMLStyleModel",
      "state": {
       "description_width": "",
       "font_size": null,
       "text_color": null
      }
     }
    },
    "version_major": 2,
    "version_minor": 0
   }
  }
 },
 "nbformat": 4,
 "nbformat_minor": 5
}
